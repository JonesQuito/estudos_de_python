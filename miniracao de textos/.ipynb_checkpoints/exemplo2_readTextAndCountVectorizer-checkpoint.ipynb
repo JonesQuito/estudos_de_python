{
 "cells": [
  {
   "cell_type": "code",
   "execution_count": 6,
   "metadata": {},
   "outputs": [],
   "source": [
    "# Abrindo e lendo arquivo de texto\n",
    "\n",
    "arq1 = open('../manipulando_arquivos/texto01.txt', 'r',encoding='utf-8')\n",
    "texto1 = arq1.read()\n",
    "arq1.close()\n",
    "\n",
    "arq2 = open('../manipulando_arquivos/texto02.txt', 'r',encoding='utf-8')\n",
    "texto2 = arq2.read()\n",
    "arq2.close()"
   ]
  },
  {
   "cell_type": "code",
   "execution_count": 23,
   "metadata": {},
   "outputs": [
    {
     "name": "stdout",
     "output_type": "stream",
     "text": [
      "['Na abertura do Pré-Pan, equipe masculina supera quedas para ficar em terceiro e se classificar para os Jogos de Lima 2019. Brasileiros conquistam três medalhas individuais', 'Já criei ficheiros a partir do python para saber onde eles são guardados e colocar lá o ficheiro que quero, e mesmo assim não funciona. Apenas dá quando copio o conteúdo que quero para o ficheiro que crio com o python, mas dá muito trabalho.']\n"
     ]
    }
   ],
   "source": [
    "# Criando um dataset com os textos lidos\n",
    "\n",
    "dataset = [texto1, texto2]\n",
    "print(dataset)"
   ]
  },
  {
   "cell_type": "code",
   "execution_count": 24,
   "metadata": {},
   "outputs": [],
   "source": [
    "#importando a CountVectorizer\n",
    "\n",
    "from sklearn.feature_extraction.text import CountVectorizer"
   ]
  },
  {
   "cell_type": "code",
   "execution_count": 55,
   "metadata": {},
   "outputs": [],
   "source": [
    "vectorizer = CountVectorizer(encoding='utf-8', decode_error='strict', strip_accents=None,\n",
    "                            lowercase=True, preprocessor=None, tokenizer=None, stop_words=None,\n",
    "                             analyzer='word', max_df=1, min_df=1, max_features=None, binary=False)"
   ]
  },
  {
   "cell_type": "code",
   "execution_count": 56,
   "metadata": {},
   "outputs": [],
   "source": [
    "x = vectorizer.fit_transform(dataset)"
   ]
  },
  {
   "cell_type": "code",
   "execution_count": 57,
   "metadata": {},
   "outputs": [
    {
     "name": "stdout",
     "output_type": "stream",
     "text": [
      "['2019', 'abertura', 'apenas', 'assim', 'brasileiros', 'classificar', 'colocar', 'com', 'conquistam', 'conteúdo', 'copio', 'criei', 'crio', 'de', 'dá', 'eles', 'em', 'equipe', 'ficar', 'ficheiro', 'ficheiros', 'funciona', 'guardados', 'individuais', 'jogos', 'já', 'lima', 'lá', 'mas', 'masculina', 'medalhas', 'mesmo', 'muito', 'na', 'não', 'onde', 'os', 'pan', 'partir', 'pré', 'python', 'quando', 'que', 'quedas', 'quero', 'saber', 'se', 'supera', 'são', 'terceiro', 'trabalho', 'três']\n"
     ]
    }
   ],
   "source": [
    "print(vectorizer.get_feature_names())"
   ]
  },
  {
   "cell_type": "code",
   "execution_count": 61,
   "metadata": {},
   "outputs": [],
   "source": [
    "palavras = vectorizer.get_feature_names()"
   ]
  },
  {
   "cell_type": "code",
   "execution_count": 64,
   "metadata": {},
   "outputs": [
    {
     "name": "stdout",
     "output_type": "stream",
     "text": [
      "['2019', 'abertura', 'apenas', 'assim', 'brasileiros', 'classificar', 'colocar', 'com', 'conquistam', 'conteúdo', 'copio', 'criei', 'crio', 'de', 'dá', 'eles', 'em', 'equipe', 'ficar', 'ficheiro', 'ficheiros', 'funciona', 'guardados', 'individuais', 'jogos', 'já', 'lima', 'lá', 'mas', 'masculina', 'medalhas', 'mesmo', 'muito', 'na', 'não', 'onde', 'os', 'pan', 'partir', 'pré', 'python', 'quando', 'que', 'quedas', 'quero', 'saber', 'se', 'supera', 'são', 'terceiro', 'trabalho', 'três']\n"
     ]
    }
   ],
   "source": [
    "print(palavras)"
   ]
  },
  {
   "cell_type": "code",
   "execution_count": 65,
   "metadata": {},
   "outputs": [
    {
     "name": "stdout",
     "output_type": "stream",
     "text": [
      "[[1 1 0 0 1 1 0 0 1 0 0 0 0 1 0 0 1 1 1 0 0 0 0 1 1 0 1 0 0 1 1 0 0 1 0 0\n",
      "  1 1 0 1 0 0 0 1 0 0 1 1 0 1 0 1]\n",
      " [0 0 1 1 0 0 1 1 0 1 1 1 1 0 2 1 0 0 0 2 1 1 1 0 0 1 0 1 1 0 0 1 1 0 1 1\n",
      "  0 0 1 0 2 1 3 0 2 1 0 0 1 0 1 0]]\n"
     ]
    }
   ],
   "source": [
    "print(x.toarray())"
   ]
  },
  {
   "cell_type": "code",
   "execution_count": 66,
   "metadata": {},
   "outputs": [
    {
     "name": "stdout",
     "output_type": "stream",
     "text": [
      "['2019', 'abertura', 'apenas', 'assim', 'brasileiros', 'classificar', 'colocar', 'conquistam', 'conteúdo', 'copio', 'criei', 'crio', 'dá', 'eles', 'equipe', 'ficar', 'ficheiro', 'ficheiros', 'funciona', 'guardados', 'individuais', 'jogos', 'já', 'lima', 'lá', 'mas', 'masculina', 'medalhas', 'muito', 'não', 'onde', 'pan', 'partir', 'pré', 'python', 'quando', 'que', 'quedas', 'quero', 'saber', 'se', 'supera', 'são', 'terceiro', 'trabalho', 'três']\n"
     ]
    }
   ],
   "source": [
    "# Lista de stop_words\n",
    "stop_words = ['com', 'de', 'em', 'mesmo', 'na', 'os']\n",
    "\n",
    "# Removendo as stop_words\n",
    "for p in palavras:\n",
    "    if p in stop_words:\n",
    "        palavras.remove(p)\n",
    "        \n",
    "print(palavras)"
   ]
  },
  {
   "cell_type": "code",
   "execution_count": null,
   "metadata": {},
   "outputs": [],
   "source": []
  }
 ],
 "metadata": {
  "kernelspec": {
   "display_name": "Python 3",
   "language": "python",
   "name": "python3"
  }
 },
 "nbformat": 4,
 "nbformat_minor": 2
}
