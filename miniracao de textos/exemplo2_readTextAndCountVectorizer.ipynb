{
 "cells": [
  {
   "cell_type": "code",
   "execution_count": 57,
   "metadata": {},
   "outputs": [],
   "source": [
    "# Abrindo e lendo arquivo de texto\n",
    "\n",
    "arq1 = open('texto01.txt', 'r',encoding='utf-8')\n",
    "texto1 = arq1.read()\n",
    "arq1.close()\n",
    "\n",
    "arq2 = open('texto02.txt', 'r',encoding='utf-8')\n",
    "texto2 = arq2.read()\n",
    "arq2.close()"
   ]
  },
  {
   "cell_type": "code",
   "execution_count": 58,
   "metadata": {},
   "outputs": [
    {
     "name": "stdout",
     "output_type": "stream",
     "text": [
      "['Na abertura do Pré-Pan, equipe masculina supera quedas para ficar em terceiro e se classificar para os Jogos de Lima 2019. Brasileiros conquistam três medalhas individuais', 'Já criei ficheiros a partir do python para saber onde eles são guardados e colocar lá o ficheiro que quero, e mesmo assim não funciona. Apenas dá quando copio o conteúdo que quero para o ficheiro que crio com o python, mas dá muito trabalho.']\n"
     ]
    }
   ],
   "source": [
    "# Criando um dataset com os textos lidos\n",
    "\n",
    "dataset = [texto1, texto2]\n",
    "print(dataset)"
   ]
  },
  {
   "cell_type": "code",
   "execution_count": 59,
   "metadata": {},
   "outputs": [],
   "source": [
    "#importando a CountVectorizer\n",
    "\n",
    "from sklearn.feature_extraction.text import CountVectorizer"
   ]
  },
  {
   "cell_type": "code",
   "execution_count": 100,
   "metadata": {},
   "outputs": [],
   "source": [
    "vectorizer = CountVectorizer(encoding='utf-8', decode_error='strict', strip_accents=None,\n",
    "                            lowercase=True, preprocessor=None, tokenizer=None, stop_words=None)"
   ]
  },
  {
   "cell_type": "code",
   "execution_count": 101,
   "metadata": {},
   "outputs": [],
   "source": [
    "x = vectorizer.fit_transform(dataset)"
   ]
  },
  {
   "cell_type": "code",
   "execution_count": 102,
   "metadata": {},
   "outputs": [
    {
     "name": "stdout",
     "output_type": "stream",
     "text": [
      "['2019', 'abertura', 'apenas', 'assim', 'brasileiros', 'classificar', 'colocar', 'com', 'conquistam', 'conteúdo', 'copio', 'criei', 'crio', 'de', 'do', 'dá', 'eles', 'em', 'equipe', 'ficar', 'ficheiro', 'ficheiros', 'funciona', 'guardados', 'individuais', 'jogos', 'já', 'lima', 'lá', 'mas', 'masculina', 'medalhas', 'mesmo', 'muito', 'na', 'não', 'onde', 'os', 'pan', 'para', 'partir', 'pré', 'python', 'quando', 'que', 'quedas', 'quero', 'saber', 'se', 'supera', 'são', 'terceiro', 'trabalho', 'três']\n"
     ]
    }
   ],
   "source": [
    "print(vectorizer.get_feature_names())"
   ]
  },
  {
   "cell_type": "code",
   "execution_count": 103,
   "metadata": {},
   "outputs": [
    {
     "name": "stdout",
     "output_type": "stream",
     "text": [
      "[[1 1 0 0 1 1 0 0 1 0 0 0 0 1 1 0 0 1 1 1 0 0 0 0 1 1 0 1 0 0 1 1 0 0 1 0\n",
      "  0 1 1 2 0 1 0 0 0 1 0 0 1 1 0 1 0 1]\n",
      " [0 0 1 1 0 0 1 1 0 1 1 1 1 0 1 2 1 0 0 0 2 1 1 1 0 0 1 0 1 1 0 0 1 1 0 1\n",
      "  1 0 0 2 1 0 2 1 3 0 2 1 0 0 1 0 1 0]]\n"
     ]
    }
   ],
   "source": [
    "print(x.toarray())"
   ]
  },
  {
   "cell_type": "code",
   "execution_count": 104,
   "metadata": {},
   "outputs": [
    {
     "name": "stdout",
     "output_type": "stream",
     "text": [
      "  (0, 24)\t1\n",
      "  (0, 31)\t1\n",
      "  (0, 53)\t1\n",
      "  (0, 8)\t1\n",
      "  (0, 4)\t1\n",
      "  (0, 0)\t1\n",
      "  (0, 27)\t1\n",
      "  (0, 13)\t1\n",
      "  (0, 25)\t1\n",
      "  (0, 37)\t1\n",
      "  (0, 5)\t1\n",
      "  (0, 48)\t1\n",
      "  (0, 51)\t1\n",
      "  (0, 17)\t1\n",
      "  (0, 19)\t1\n",
      "  (0, 39)\t2\n",
      "  (0, 45)\t1\n",
      "  (0, 49)\t1\n",
      "  (0, 30)\t1\n",
      "  (0, 18)\t1\n",
      "  (0, 38)\t1\n",
      "  (0, 41)\t1\n",
      "  (0, 14)\t1\n",
      "  (0, 1)\t1\n",
      "  (0, 34)\t1\n",
      "  :\t:\n",
      "  (1, 10)\t1\n",
      "  (1, 43)\t1\n",
      "  (1, 15)\t2\n",
      "  (1, 2)\t1\n",
      "  (1, 22)\t1\n",
      "  (1, 35)\t1\n",
      "  (1, 3)\t1\n",
      "  (1, 32)\t1\n",
      "  (1, 46)\t2\n",
      "  (1, 44)\t3\n",
      "  (1, 20)\t2\n",
      "  (1, 28)\t1\n",
      "  (1, 6)\t1\n",
      "  (1, 23)\t1\n",
      "  (1, 50)\t1\n",
      "  (1, 16)\t1\n",
      "  (1, 36)\t1\n",
      "  (1, 47)\t1\n",
      "  (1, 42)\t2\n",
      "  (1, 40)\t1\n",
      "  (1, 21)\t1\n",
      "  (1, 11)\t1\n",
      "  (1, 26)\t1\n",
      "  (1, 39)\t2\n",
      "  (1, 14)\t1\n"
     ]
    }
   ],
   "source": [
    "print(x)"
   ]
  }
 ],
 "metadata": {
  "kernelspec": {
   "display_name": "Python 3",
   "language": "python",
   "name": "python3"
  },
  "language_info": {
   "codemirror_mode": {
    "name": "ipython",
    "version": 3
   },
   "file_extension": ".py",
   "mimetype": "text/x-python",
   "name": "python",
   "nbconvert_exporter": "python",
   "pygments_lexer": "ipython3",
   "version": "3.6.5"
  }
 },
 "nbformat": 4,
 "nbformat_minor": 2
}
