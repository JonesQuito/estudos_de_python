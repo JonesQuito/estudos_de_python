{
 "cells": [
  {
   "cell_type": "code",
   "execution_count": 1,
   "metadata": {},
   "outputs": [
    {
     "name": "stdout",
     "output_type": "stream",
     "text": [
      "\n",
      "    Lista de amigos\n",
      "    --------------\n",
      "    1 - Simone Cardoso\n",
      "    2 - Maria Antonia\n",
      "    3 - Fernanda Chaves\n",
      "    4 - Josué Gomes\n",
      "    5 - Andressa Lins\n",
      "\n"
     ]
    }
   ],
   "source": [
    "# Abrindo um arquivo de texto noraml\n",
    "file = open('lista de amigos.txt', 'r', encoding='utf-8')\n",
    "\n",
    "content = file.read()\n",
    "file.close()\n",
    "\n",
    "print(content)"
   ]
  },
  {
   "cell_type": "code",
   "execution_count": 2,
   "metadata": {},
   "outputs": [
    {
     "name": "stdout",
     "output_type": "stream",
     "text": [
      "Lista de amigos:\n",
      "\n",
      "--------------\n",
      "\n",
      "1 - Jones Quito\n",
      "\n",
      "2 - Simone Cardoso\n",
      "\n",
      "3 - Jamile do Socorro\n",
      "\n",
      "4 - Eliezer Guilherme\n",
      "\n",
      "5 - Fernanda Chaves\n",
      "\n"
     ]
    }
   ],
   "source": [
    "# Abrindo um arquivo que foi gravado como lista e mostrando seu conteúdo\n",
    "file = open('lista de amigos 2.txt', 'r')\n",
    "texto = file.readlines()\n",
    "file.close()\n",
    "# print(type(texto))\n",
    "for linha in texto:\n",
    "    print(linha)"
   ]
  }
 ],
 "metadata": {
  "kernelspec": {
   "display_name": "Python 3",
   "language": "python",
   "name": "python3"
  },
  "language_info": {
   "codemirror_mode": {
    "name": "ipython",
    "version": 3
   },
   "file_extension": ".py",
   "mimetype": "text/x-python",
   "name": "python",
   "nbconvert_exporter": "python",
   "pygments_lexer": "ipython3",
   "version": "3.6.5"
  }
 },
 "nbformat": 4,
 "nbformat_minor": 2
}
