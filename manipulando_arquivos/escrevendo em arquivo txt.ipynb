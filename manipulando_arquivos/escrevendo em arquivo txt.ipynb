{
 "cells": [
  {
   "cell_type": "code",
   "execution_count": 10,
   "metadata": {},
   "outputs": [],
   "source": [
    "# Abrir arquivo no modo de escrita com encoding=utf-8\n",
    "arq = open('lista de amigos.txt', 'w', encoding='utf-8')\n",
    "\n",
    "# Declara uma variável com o texto a ser gravado\n",
    "texto = '''\n",
    "    Lista de amigos\n",
    "    --------------\n",
    "    1 - Simone Cardoso\n",
    "    2 - Maria Antonia\n",
    "    3 - Fernanda Chaves\n",
    "    4 - Josué Gomes\n",
    "    5 - Andressa Lins\n",
    "'''\n",
    "\n",
    "# Escreve no arquivo e em seguida fecha o mesmo\n",
    "arq.write(texto)\n",
    "arq.close()"
   ]
  },
  {
   "cell_type": "code",
   "execution_count": 14,
   "metadata": {},
   "outputs": [],
   "source": [
    "#Abrir o arquivo no mdo de leitura e encoding='utf-8'\n",
    "arq = open('lista de amigos 2.txt', 'w', encoding='utf-8')\n",
    "\n",
    "# Declarando uma lista vazia\n",
    "texto = []\n",
    "\n",
    "# Anexando elementos na lista\n",
    "texto.append('Lista de amigos:\\n')\n",
    "texto.append('--------------\\n')\n",
    "texto.append('1 - Jones Quito\\n')\n",
    "texto.append('2 - Simone Cardoso\\n')\n",
    "texto.append('3 - Jamile do Socorro\\n')\n",
    "texto.append('4 - Eliezer Guilherme\\n')\n",
    "texto.append('5 - Fernanda Chaves\\n')\n",
    "\n",
    "# Escrever a lista no arquivo\n",
    "arq.writelines(texto)\n",
    "arq.close()"
   ]
  }
 ],
 "metadata": {
  "kernelspec": {
   "display_name": "Python 3",
   "language": "python",
   "name": "python3"
  },
  "language_info": {
   "codemirror_mode": {
    "name": "ipython",
    "version": 3
   },
   "file_extension": ".py",
   "mimetype": "text/x-python",
   "name": "python",
   "nbconvert_exporter": "python",
   "pygments_lexer": "ipython3",
   "version": "3.6.5"
  }
 },
 "nbformat": 4,
 "nbformat_minor": 2
}
